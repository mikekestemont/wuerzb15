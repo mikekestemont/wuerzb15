{
 "cells": [
  {
   "cell_type": "markdown",
   "metadata": {},
   "source": [
    "#Chapter 1 - Number crunching and matrix manipulation with `Numpy`"
   ]
  },
  {
   "cell_type": "markdown",
   "metadata": {},
   "source": [
    "##Numpy's typed `array`\n",
    "\n",
    "At the most basic level of computing, `numpy` ('Numerical Python') has become an indispensable package for scientific computing in Python, on which many other packages fundamentally rely. Numpy is conventionally imported under the name `np`: "
   ]
  },
  {
   "cell_type": "code",
   "execution_count": 40,
   "metadata": {
    "collapsed": true
   },
   "outputs": [],
   "source": [
    "import numpy as np"
   ]
  },
  {
   "cell_type": "markdown",
   "metadata": {},
   "source": [
    "Numpy is a library which is typically used for hardcore number crunching. It is most faster than standard Python at this task, because it comes with a great deal of highly optimized routines. However, to achieve this speed-up, numpy asks us to give up an advantage of Python: it's `typeless` nature. Recall that Python is normally super-flexible when it comes of the types of the variables that we work with. We can easily create and reassign different sorts of data types to variables, switching between integers, floats, booleans and even strings:"
   ]
  },
  {
   "cell_type": "code",
   "execution_count": 41,
   "metadata": {
    "collapsed": false
   },
   "outputs": [
    {
     "name": "stdout",
     "output_type": "stream",
     "text": [
      "<class 'int'>\n",
      "<class 'float'>\n",
      "<class 'str'>\n",
      "<class 'bool'>\n"
     ]
    }
   ],
   "source": [
    "nb = 5\n",
    "print(type(nb))\n",
    "nb = 6.0\n",
    "print(type(nb))\n",
    "nb = 'number'\n",
    "print(type(nb))\n",
    "nb = False\n",
    "print(type(nb))"
   ]
  },
  {
   "cell_type": "markdown",
   "metadata": {},
   "source": [
    "This flexibility is commonly referred to as Python's 'typeless' nature: at least from the coder's perspective, Python does not see to care about the kind of data we store inside variables. The same flexibility is offered by Python's colleciton-like data structure. Python's lists and tuples ('arrays'), for instance, allow us to freely mix different data types:"
   ]
  },
  {
   "cell_type": "code",
   "execution_count": 43,
   "metadata": {
    "collapsed": false
   },
   "outputs": [
    {
     "name": "stdout",
     "output_type": "stream",
     "text": [
      "<class 'list'>\n",
      "\t- <class 'str'>\n",
      "\t- <class 'int'>\n",
      "\t- <class 'float'>\n",
      "<class 'tuple'>\n",
      "\t- <class 'str'>\n",
      "\t- <class 'int'>\n",
      "\t- <class 'float'>\n"
     ]
    }
   ],
   "source": [
    "# create a mixed list first:\n",
    "arr = ['number', 5, 6.0]\n",
    "print(type(arr))\n",
    "\n",
    "# check the individual data types:\n",
    "for a in arr:\n",
    "    print('\\t-', type(a))\n",
    "\n",
    "# turn this into a tuple:\n",
    "arr = tuple(arr)\n",
    "print(type(arr))\n",
    "\n",
    "# check the individual data types:\n",
    "for a in arr:\n",
    "    print('\\t-', type(a))"
   ]
  },
  {
   "cell_type": "markdown",
   "metadata": {},
   "source": [
    "This awesome flexibility is something Java-coders can only dream of! Naturally, this flexibility comes with a high cost -- and is fact, is one of the main reasons why Python is considered a relative 'slow' language. When executing code in Python, your machine can never be sure what to expect: a variable which was initially defined to hold a simple number, can easily be reassigned to hold a book-long string! Thus, Python constantly must constantly manage and anticipate these complex, memory-related requirements.\n",
    "\n",
    "Numpy bypasses these requirements, by defining a typed data object: the `array` object, which is in many ways to most central workhorse in the package. This object can be used to efficiently work with large arrays of numbers. The only admission which Python asks from us, is that we only store one type of data in this `array`. These numbers will typically be (floating-point) numbers. Let us start by creating a random list of floats in normal Python, and then convert it to a numpy array:"
   ]
  },
  {
   "cell_type": "code",
   "execution_count": 44,
   "metadata": {
    "collapsed": false
   },
   "outputs": [
    {
     "name": "stdout",
     "output_type": "stream",
     "text": [
      "<class 'numpy.ndarray'>\n"
     ]
    }
   ],
   "source": [
    "nbs = [0.2, 4.5, 0.7, -0.9, 12.67]\n",
    "a = np.array(nbs)\n",
    "print(type(a))"
   ]
  },
  {
   "cell_type": "markdown",
   "metadata": {},
   "source": [
    "Note how the representation of our value collection is slightly altered, when printed (no comma's):"
   ]
  },
  {
   "cell_type": "code",
   "execution_count": 45,
   "metadata": {
    "collapsed": false
   },
   "outputs": [
    {
     "name": "stdout",
     "output_type": "stream",
     "text": [
      "[0.2, 4.5, 0.7, -0.9, 12.67]\n",
      "[  0.2    4.5    0.7   -0.9   12.67]\n"
     ]
    }
   ],
   "source": [
    "print(nbs)\n",
    "print(a)"
   ]
  },
  {
   "cell_type": "markdown",
   "metadata": {},
   "source": [
    "A numpy `array` has two fundamental properties: it has a data type (`array.dtype`) and a shape (`array.shape`): "
   ]
  },
  {
   "cell_type": "code",
   "execution_count": 46,
   "metadata": {
    "collapsed": false
   },
   "outputs": [
    {
     "name": "stdout",
     "output_type": "stream",
     "text": [
      "float64\n"
     ]
    }
   ],
   "source": [
    "print(a.dtype)"
   ]
  },
  {
   "cell_type": "markdown",
   "metadata": {},
   "source": [
    "The `dtype` reflects the data type of the numbers stored in the array. In this case, we are dealing with `float64` numbers which apparently is the default type of number used when creating an `array`. This property can be controlled using the `dtype` property in the constructor. To create an array with simple integers, for instance, we could do:"
   ]
  },
  {
   "cell_type": "code",
   "execution_count": 47,
   "metadata": {
    "collapsed": false
   },
   "outputs": [
    {
     "name": "stdout",
     "output_type": "stream",
     "text": [
      "[0 1 2 3 4]\n",
      "int8\n"
     ]
    }
   ],
   "source": [
    "i = np.array(range(0, 5), dtype='int8')\n",
    "print(i)\n",
    "print(i.dtype)"
   ]
  },
  {
   "cell_type": "markdown",
   "metadata": {},
   "source": [
    "The `shape` property captures the structure of our number collection, which is closely related to the concept of 'dimensionality'. In this case, our array only has a single 'dimension', with a 'dimensionality' of 5 - because our list contains 5 numbers:"
   ]
  },
  {
   "cell_type": "code",
   "execution_count": 48,
   "metadata": {
    "collapsed": false
   },
   "outputs": [
    {
     "name": "stdout",
     "output_type": "stream",
     "text": [
      "(5,)\n"
     ]
    }
   ],
   "source": [
    "print(a.shape)"
   ]
  },
  {
   "cell_type": "markdown",
   "metadata": {},
   "source": [
    "Now that we can pass both Python lists and (immutable) tuples to the `array()` constructor. Make sure however to properly specify a data type if numpy might get confused when it comes to casting. Compare the following situations: "
   ]
  },
  {
   "cell_type": "code",
   "execution_count": 80,
   "metadata": {
    "collapsed": false
   },
   "outputs": [
    {
     "name": "stdout",
     "output_type": "stream",
     "text": [
      "float64\n",
      "int64\n",
      "int8\n"
     ]
    }
   ],
   "source": [
    "# mixed:\n",
    "nbs = [1, 2, 3.0]\n",
    "a = np.array(nbs)\n",
    "print(a.dtype)\n",
    "\n",
    "# just ints:\n",
    "nbs = [1, 2, 3]\n",
    "a = np.array(nbs)\n",
    "print(a.dtype)\n",
    "\n",
    "# cast to floats:\n",
    "nbs = [1.0, 2.0, 3.0]\n",
    "a = np.array(nbs, dtype='int8')\n",
    "print(a.dtype)"
   ]
  },
  {
   "cell_type": "markdown",
   "metadata": {},
   "source": [
    "##Matrices"
   ]
  },
  {
   "cell_type": "markdown",
   "metadata": {},
   "source": [
    "A single list or array of numbers is commonly refered to as a 'vector' in computing. Conventionally, they take lowercase (single-character) names, such as `a` or `i` above. When working with a 'list of lists', it is more common to speak about these nested collections of numbers as 'matrices' (singular: 'matrix'), which typically take uppercase names. Here goes an example of such a list of lists:"
   ]
  },
  {
   "cell_type": "code",
   "execution_count": 81,
   "metadata": {
    "collapsed": false
   },
   "outputs": [
    {
     "name": "stdout",
     "output_type": "stream",
     "text": [
      "[[1 3 4]\n",
      " [2 3 4]\n",
      " [8 9 9]]\n"
     ]
    }
   ],
   "source": [
    "lists = [[1, 3, 4,],\n",
    "     [2, 3, 4],\n",
    "     [8, 9, 9]]\n",
    "M = np.array(lists)\n",
    "print(M)"
   ]
  },
  {
   "cell_type": "markdown",
   "metadata": {},
   "source": [
    "This matrix has a two dimensions, the shape of which can inspected via the tuple returned by `array.shape`: "
   ]
  },
  {
   "cell_type": "code",
   "execution_count": 82,
   "metadata": {
    "collapsed": false
   },
   "outputs": [
    {
     "name": "stdout",
     "output_type": "stream",
     "text": [
      "(3, 3)\n"
     ]
    }
   ],
   "source": [
    "print(M.shape)"
   ]
  },
  {
   "cell_type": "markdown",
   "metadata": {},
   "source": [
    "This property shows that our two-dimensional matrix has three 'rows' and three 'columns'. In fact, a matrix is a very common data structure in stylometry, because we typically represent a corpus of texts as a spreadsheet-like table, where rows represent documents, and columns represent words. The cells in the corpus matrix could for instance hold the relative frequencies of each word in each texts.\n",
    "\n",
    "Initializing matrices with values is easy in numpy. To 'prepopulate' a matrix with certain values, we could the following line, where a tuple indicates the desired shape of the matrix: "
   ]
  },
  {
   "cell_type": "code",
   "execution_count": 91,
   "metadata": {
    "collapsed": false
   },
   "outputs": [
    {
     "name": "stdout",
     "output_type": "stream",
     "text": [
      "[[ 0.  0.  0.  0.  0.  0.]\n",
      " [ 0.  0.  0.  0.  0.  0.]\n",
      " [ 0.  0.  0.  0.  0.  0.]\n",
      " [ 0.  0.  0.  0.  0.  0.]]\n",
      "(4, 6)\n"
     ]
    }
   ],
   "source": [
    "M2 = np.zeros((4, 6))\n",
    "print(M2)\n",
    "print(M2.shape)"
   ]
  },
  {
   "cell_type": "markdown",
   "metadata": {},
   "source": [
    "For a matrix of ones, we have the equivalent:"
   ]
  },
  {
   "cell_type": "code",
   "execution_count": 92,
   "metadata": {
    "collapsed": false
   },
   "outputs": [
    {
     "name": "stdout",
     "output_type": "stream",
     "text": [
      "[[ 1.  1.  1.  1.]\n",
      " [ 1.  1.  1.  1.]\n",
      " [ 1.  1.  1.  1.]\n",
      " [ 1.  1.  1.  1.]\n",
      " [ 1.  1.  1.  1.]\n",
      " [ 1.  1.  1.  1.]\n",
      " [ 1.  1.  1.  1.]\n",
      " [ 1.  1.  1.  1.]]\n",
      "(8, 4)\n"
     ]
    }
   ],
   "source": [
    "M_ones = np.ones((8, 4))\n",
    "print(M_ones)\n",
    "print(M_ones.shape)"
   ]
  },
  {
   "cell_type": "markdown",
   "metadata": {},
   "source": [
    "To fill such a structure with another values, we can use `fill()`:"
   ]
  },
  {
   "cell_type": "code",
   "execution_count": 93,
   "metadata": {
    "collapsed": false
   },
   "outputs": [
    {
     "name": "stdout",
     "output_type": "stream",
     "text": [
      "[[ 1.  1.  1.  1.]\n",
      " [ 1.  1.  1.  1.]\n",
      " [ 1.  1.  1.  1.]\n",
      " [ 1.  1.  1.  1.]\n",
      " [ 1.  1.  1.  1.]\n",
      " [ 1.  1.  1.  1.]\n",
      " [ 1.  1.  1.  1.]\n",
      " [ 1.  1.  1.  1.]]\n"
     ]
    }
   ],
   "source": [
    "M1.fill(1.0)\n",
    "print(M1)"
   ]
  },
  {
   "cell_type": "markdown",
   "metadata": {},
   "source": [
    "Arrays aren't limited to two dimensions: just as in standard Python we would easily create a list of lists of lists etc. by inputting a nested list structure or specifying this structure as follows:"
   ]
  },
  {
   "cell_type": "code",
   "execution_count": 94,
   "metadata": {
    "collapsed": false
   },
   "outputs": [
    {
     "name": "stdout",
     "output_type": "stream",
     "text": [
      "[[[ 0.  0.]\n",
      "  [ 0.  0.]\n",
      "  [ 0.  0.]\n",
      "  [ 0.  0.]]\n",
      "\n",
      " [[ 0.  0.]\n",
      "  [ 0.  0.]\n",
      "  [ 0.  0.]\n",
      "  [ 0.  0.]]\n",
      "\n",
      " [[ 0.  0.]\n",
      "  [ 0.  0.]\n",
      "  [ 0.  0.]\n",
      "  [ 0.  0.]]]\n"
     ]
    }
   ],
   "source": [
    "M3 = np.zeros((3, 4, 2))\n",
    "print(M3)"
   ]
  },
  {
   "cell_type": "markdown",
   "metadata": {},
   "source": [
    "Such deeper matrices are often called 'tensors' nowadays, but are less common in stylometry. Just bear in mind that `dtype` and `shape` are the main properties to keep track of when dealing with Numpy's `array`. The exact number of dimensions can also be checked using the `ndim` property:"
   ]
  },
  {
   "cell_type": "code",
   "execution_count": 97,
   "metadata": {
    "collapsed": false
   },
   "outputs": [
    {
     "name": "stdout",
     "output_type": "stream",
     "text": [
      "1\n",
      "2\n",
      "3\n"
     ]
    }
   ],
   "source": [
    "print(a.ndim)  # vector\n",
    "print(M2.ndim) # matrix\n",
    "print(M3.ndim) # tensor"
   ]
  },
  {
   "cell_type": "markdown",
   "metadata": {},
   "source": [
    "##Indexing"
   ]
  },
  {
   "cell_type": "markdown",
   "metadata": {},
   "source": [
    "Learning how to handle and manipulate numpy arrays is crucial nowadays. Just as with normal collections in Python, such as tuples, we need efficient ways to access parts of our arrays, such as a single row or column. Numpy offers good support for such based indexing, using an indexing mechanism that is very similar to what you might know from R or Matlab. Let us create a 2D matrix with random values between 0 and 1, and practice our indexing skills: "
   ]
  },
  {
   "cell_type": "code",
   "execution_count": 115,
   "metadata": {
    "collapsed": false
   },
   "outputs": [
    {
     "name": "stdout",
     "output_type": "stream",
     "text": [
      "[[ 0.0495818   0.89633639  0.48267203  0.29064031]\n",
      " [ 0.83959288  0.40974507  0.03041626  0.06496562]\n",
      " [ 0.13666861  0.70537769  0.74017668  0.27635603]\n",
      " [ 0.85583851  0.88444421  0.59075278  0.80842459]\n",
      " [ 0.47741616  0.90190265  0.39355891  0.14088989]]\n"
     ]
    }
   ],
   "source": [
    "X = np.random.uniform(size=(5, 4), low=0, high=1)\n",
    "print(X)"
   ]
  },
  {
   "cell_type": "markdown",
   "metadata": {},
   "source": [
    "What we intuitively think of as 'rows' are always the first (and in some ways principal) dimension in numpy. Is we use standard indexing in numpy, we therefore index the matrix at the row-level. Naturally, we use zero-based indexing and start counting at 1, all the way up to -1: "
   ]
  },
  {
   "cell_type": "code",
   "execution_count": 116,
   "metadata": {
    "collapsed": false
   },
   "outputs": [
    {
     "name": "stdout",
     "output_type": "stream",
     "text": [
      "[ 0.0495818   0.89633639  0.48267203  0.29064031]\n",
      "[ 0.85583851  0.88444421  0.59075278  0.80842459]\n",
      "[ 0.47741616  0.90190265  0.39355891  0.14088989]\n"
     ]
    }
   ],
   "source": [
    "print(X[0])\n",
    "print(X[3])\n",
    "print(X[-1])"
   ]
  },
  {
   "cell_type": "markdown",
   "metadata": {},
   "source": [
    "Specifying ranges of indices - to obtain slices of data, instead of individual data points - is also easy:"
   ]
  },
  {
   "cell_type": "code",
   "execution_count": 129,
   "metadata": {
    "collapsed": false
   },
   "outputs": [
    {
     "name": "stdout",
     "output_type": "stream",
     "text": [
      "[[ 0.13666861  0.70537769  0.74017668  0.27635603]\n",
      " [ 0.85583851  0.88444421  0.59075278  0.80842459]\n",
      " [ 0.47741616  0.90190265  0.39355891  0.14088989]]\n"
     ]
    }
   ],
   "source": [
    "print(X[2:5])"
   ]
  },
  {
   "cell_type": "markdown",
   "metadata": {},
   "source": [
    "Of course, the usual shortcuts apply:"
   ]
  },
  {
   "cell_type": "code",
   "execution_count": 130,
   "metadata": {
    "collapsed": false
   },
   "outputs": [
    {
     "name": "stdout",
     "output_type": "stream",
     "text": [
      "[[ 0.0495818   0.89633639  0.48267203  0.29064031]\n",
      " [ 0.83959288  0.40974507  0.03041626  0.06496562]\n",
      " [ 0.13666861  0.70537769  0.74017668  0.27635603]]\n",
      "[[ 0.85583851  0.88444421  0.59075278  0.80842459]\n",
      " [ 0.47741616  0.90190265  0.39355891  0.14088989]]\n"
     ]
    }
   ],
   "source": [
    "print(X[:3]) # all rows up to (and not including) row 3\n",
    "print(X[-2:]) # every row after (and including) the last-but-two row"
   ]
  },
  {
   "cell_type": "markdown",
   "metadata": {},
   "source": [
    "A very useful gimmick is that the indices passed, can be discontinuous, which will prove to be amazingly useful when having to select specific parts of your data:"
   ]
  },
  {
   "cell_type": "code",
   "execution_count": 131,
   "metadata": {
    "collapsed": false
   },
   "outputs": [
    {
     "name": "stdout",
     "output_type": "stream",
     "text": [
      "[[ 0.0495818   0.89633639  0.48267203  0.29064031]\n",
      " [ 0.13666861  0.70537769  0.74017668  0.27635603]\n",
      " [ 0.47741616  0.90190265  0.39355891  0.14088989]]\n"
     ]
    }
   ],
   "source": [
    "rngs = [0, 2, 4]\n",
    "print(X[rngs])"
   ]
  },
  {
   "cell_type": "markdown",
   "metadata": {},
   "source": [
    "As you can see, only the relevant rows are included in our indexed selection. Because numpy array have multiple dimensions, we can index our data in the other dimensions two. To index entire columns, we can use the following syntax:"
   ]
  },
  {
   "cell_type": "code",
   "execution_count": 132,
   "metadata": {
    "collapsed": false
   },
   "outputs": [
    {
     "name": "stdout",
     "output_type": "stream",
     "text": [
      "[ 0.89633639  0.40974507  0.70537769  0.88444421  0.90190265]\n"
     ]
    }
   ],
   "source": [
    "print(X[:, 1])"
   ]
  },
  {
   "cell_type": "markdown",
   "metadata": {},
   "source": [
    "Using the colon syntax (`:`), we indicate in fact that we want to index the 2nd column across all rows. If we only wanted to extract this column for the first two rows, we could have done: "
   ]
  },
  {
   "cell_type": "code",
   "execution_count": 133,
   "metadata": {
    "collapsed": false
   },
   "outputs": [
    {
     "name": "stdout",
     "output_type": "stream",
     "text": [
      "[ 0.89633639  0.40974507]\n"
     ]
    }
   ],
   "source": [
    "print(X[:2, 1])"
   ]
  },
  {
   "cell_type": "markdown",
   "metadata": {},
   "source": [
    "Here, we obtain a flat vector, instead of a vertical columns, so to speak. Of course, when we start paying with more advanced slicing strategies, we can obtain matrices too:"
   ]
  },
  {
   "cell_type": "code",
   "execution_count": 134,
   "metadata": {
    "collapsed": false
   },
   "outputs": [
    {
     "name": "stdout",
     "output_type": "stream",
     "text": [
      "[[ 0.89633639  0.48267203]\n",
      " [ 0.40974507  0.03041626]]\n"
     ]
    }
   ],
   "source": [
    "print(X[:2, 1:3])"
   ]
  },
  {
   "cell_type": "markdown",
   "metadata": {},
   "source": [
    "Here, we obtain a matrix which represent a 2D slice of our original matrix, namely the cells for the first rows and the second and third column. "
   ]
  },
  {
   "cell_type": "markdown",
   "metadata": {},
   "source": [
    "Note that with columns too, the indices can be discontinuous, which is useful if we want to make a subselection of specific columns:"
   ]
  },
  {
   "cell_type": "code",
   "execution_count": 136,
   "metadata": {
    "collapsed": false
   },
   "outputs": [
    {
     "name": "stdout",
     "output_type": "stream",
     "text": [
      "[[ 0.89633639  0.29064031]\n",
      " [ 0.40974507  0.06496562]\n",
      " [ 0.70537769  0.27635603]\n",
      " [ 0.88444421  0.80842459]\n",
      " [ 0.90190265  0.14088989]]\n"
     ]
    }
   ],
   "source": [
    "rngs = [1, 3]\n",
    "print(X[:, rngs])"
   ]
  },
  {
   "cell_type": "markdown",
   "metadata": {},
   "source": [
    "As an aside, we should note that other indexing mechanisms are available too, although they can be slower. Consider this example:"
   ]
  },
  {
   "cell_type": "code",
   "execution_count": 137,
   "metadata": {
    "collapsed": false
   },
   "outputs": [
    {
     "name": "stdout",
     "output_type": "stream",
     "text": [
      "0.48267203098\n"
     ]
    }
   ],
   "source": [
    "print(X[0][2])"
   ]
  },
  {
   "cell_type": "markdown",
   "metadata": {},
   "source": [
    "This is less fast, because in reality we will select the first row, of which a full copy is returned. Only then, we will index that copy for its third element, which is of course less efficient. Finally, we should note that we can also use a 'stepping' argument when indexing, which you will probably not need very often. To select all (un)even rows from a matrix, we could use the following syntax, where our indexer always skips a beat, by specifying that steps of 2 should be used: "
   ]
  },
  {
   "cell_type": "code",
   "execution_count": 144,
   "metadata": {
    "collapsed": false
   },
   "outputs": [
    {
     "name": "stdout",
     "output_type": "stream",
     "text": [
      "[[ 0.0495818   0.89633639  0.48267203  0.29064031]\n",
      " [ 0.13666861  0.70537769  0.74017668  0.27635603]\n",
      " [ 0.47741616  0.90190265  0.39355891  0.14088989]]\n",
      "[[ 0.83959288  0.40974507  0.03041626  0.06496562]\n",
      " [ 0.85583851  0.88444421  0.59075278  0.80842459]]\n"
     ]
    }
   ],
   "source": [
    "print(X[0::2]) # uneven, starting at 1st element\n",
    "print(X[1::2]) # even, starting at 2nd element"
   ]
  },
  {
   "cell_type": "markdown",
   "metadata": {},
   "source": [
    "Of course, indexing can also be used to reset a specific part of a matrix. This works for individual elements:"
   ]
  },
  {
   "cell_type": "code",
   "execution_count": 158,
   "metadata": {
    "collapsed": false
   },
   "outputs": [
    {
     "name": "stdout",
     "output_type": "stream",
     "text": [
      "[[ 0.  0.  0.]\n",
      " [ 0.  0.  0.]\n",
      " [ 0.  0.  0.]]\n"
     ]
    }
   ],
   "source": [
    "r = np.zeros((3, 3))\n",
    "print(r)\n",
    "r[1][2] = 3"
   ]
  },
  {
   "cell_type": "markdown",
   "metadata": {},
   "source": [
    "but also entire rows and columns:"
   ]
  },
  {
   "cell_type": "code",
   "execution_count": 161,
   "metadata": {
    "collapsed": false
   },
   "outputs": [
    {
     "name": "stdout",
     "output_type": "stream",
     "text": [
      "[[ 0.  0.  0.]\n",
      " [ 1.  1.  1.]\n",
      " [ 0.  0.  0.]]\n"
     ]
    }
   ],
   "source": [
    "g = np.ones((3,))\n",
    "r[1] = g\n",
    "print(r)"
   ]
  },
  {
   "cell_type": "markdown",
   "metadata": {},
   "source": [
    "Note that the dimensionality has to work out in the latter case of course. It is impossible to turn a vector with 4 items into a row in a matrix which only has 3 columns: "
   ]
  },
  {
   "cell_type": "code",
   "execution_count": 163,
   "metadata": {
    "collapsed": false
   },
   "outputs": [
    {
     "ename": "ValueError",
     "evalue": "could not broadcast input array from shape (4) into shape (3)",
     "output_type": "error",
     "traceback": [
      "\u001b[0;31m---------------------------------------------------------------------------\u001b[0m",
      "\u001b[0;31mValueError\u001b[0m                                Traceback (most recent call last)",
      "\u001b[0;32m<ipython-input-163-ab175ed4eafe>\u001b[0m in \u001b[0;36m<module>\u001b[0;34m()\u001b[0m\n\u001b[1;32m      1\u001b[0m \u001b[0mf\u001b[0m \u001b[0;34m=\u001b[0m \u001b[0mnp\u001b[0m\u001b[0;34m.\u001b[0m\u001b[0mones\u001b[0m\u001b[0;34m(\u001b[0m\u001b[0;34m(\u001b[0m\u001b[0;36m4\u001b[0m\u001b[0;34m,\u001b[0m\u001b[0;34m)\u001b[0m\u001b[0;34m)\u001b[0m\u001b[0;34m\u001b[0m\u001b[0m\n\u001b[0;32m----> 2\u001b[0;31m \u001b[0mr\u001b[0m\u001b[0;34m[\u001b[0m\u001b[0;36m1\u001b[0m\u001b[0;34m]\u001b[0m \u001b[0;34m=\u001b[0m \u001b[0mf\u001b[0m\u001b[0;34m\u001b[0m\u001b[0m\n\u001b[0m",
      "\u001b[0;31mValueError\u001b[0m: could not broadcast input array from shape (4) into shape (3)"
     ]
    }
   ],
   "source": [
    "f = np.ones((4,))\n",
    "r[1] = f"
   ]
  },
  {
   "cell_type": "markdown",
   "metadata": {},
   "source": [
    "(We will say more about 'broadcasting' in the next section.) One final, yet important remark in the context of assignment concerns the following warning: when indexing numpy arrays, we obtain a specific 'view' of the original array, and not a completely new object. This is efficient in many cases, but it can also lead to nasty situations, with unintended effects:"
   ]
  },
  {
   "cell_type": "code",
   "execution_count": 164,
   "metadata": {
    "collapsed": false
   },
   "outputs": [
    {
     "name": "stdout",
     "output_type": "stream",
     "text": [
      "[[ 0.  0.]\n",
      " [ 0.  0.]]\n",
      "[[ 0.  3.]\n",
      " [ 0.  0.]]\n"
     ]
    }
   ],
   "source": [
    "# we create a new matrix of zeros:\n",
    "a = np.zeros((2, 2))\n",
    "print(a)\n",
    "\n",
    "# we select the first row and assign it to b:\n",
    "b = a[0]\n",
    "\n",
    "# we change b...\n",
    "b[1] = 3\n",
    "\n",
    "# and apparently, we also changed a!\n",
    "print(a)"
   ]
  },
  {
   "cell_type": "markdown",
   "metadata": {},
   "source": [
    "Please keep this behaviour in mind! Using an explicit and full copy here, might make more sense, which can be achieved using `copy()`:"
   ]
  },
  {
   "cell_type": "code",
   "execution_count": 165,
   "metadata": {
    "collapsed": false
   },
   "outputs": [
    {
     "name": "stdout",
     "output_type": "stream",
     "text": [
      "[[ 0.  0.]\n",
      " [ 0.  0.]]\n"
     ]
    }
   ],
   "source": [
    "a = np.zeros((2, 2))\n",
    "b = a[0].copy()\n",
    "b[1] = 3\n",
    "print(a)"
   ]
  },
  {
   "cell_type": "markdown",
   "metadata": {},
   "source": [
    "##Manipulating matrixes"
   ]
  },
  {
   "cell_type": "markdown",
   "metadata": {},
   "source": [
    "Once we have created matrices, it becomes interesting to actually start to work with them. Matrices can be manipulated in many ways. One common action is transposing a matrix, a simple action which 'inverts' a matrix, so that the rows become columns - and the other way round:"
   ]
  },
  {
   "cell_type": "code",
   "execution_count": 175,
   "metadata": {
    "collapsed": false
   },
   "outputs": [
    {
     "name": "stdout",
     "output_type": "stream",
     "text": [
      "[[ 0.7198796   0.69496943  0.78915764  0.57198752  0.05935738]\n",
      " [ 0.4338612   0.24199734  0.30829562  0.73935582  0.73442163]\n",
      " [ 0.1021504   0.92264478  0.47392761  0.81795536  0.44763151]]\n",
      "[[ 0.7198796   0.4338612   0.1021504 ]\n",
      " [ 0.69496943  0.24199734  0.92264478]\n",
      " [ 0.78915764  0.30829562  0.47392761]\n",
      " [ 0.57198752  0.73935582  0.81795536]\n",
      " [ 0.05935738  0.73442163  0.44763151]]\n"
     ]
    }
   ],
   "source": [
    "M_orig = np.random.uniform(size=(3, 5))\n",
    "print(M_orig)\n",
    "M_trans = M_orig.transpose()\n",
    "print(M_trans)"
   ]
  },
  {
   "cell_type": "markdown",
   "metadata": {},
   "source": [
    "To check whether everything worked well, we can do:"
   ]
  },
  {
   "cell_type": "code",
   "execution_count": 178,
   "metadata": {
    "collapsed": false
   },
   "outputs": [
    {
     "name": "stdout",
     "output_type": "stream",
     "text": [
      "[[ True  True  True  True  True]\n",
      " [ True  True  True  True  True]\n",
      " [ True  True  True  True  True]]\n"
     ]
    }
   ],
   "source": [
    "M_trans2 = M_trans.transpose()\n",
    "print(M_trans2 == M_orig)"
   ]
  },
  {
   "cell_type": "markdown",
   "metadata": {},
   "source": [
    "The final line in previous code block raises an interesting issue: the equality operator (`==`) here, does not simply check whether the two matrixes are simply identical. Rather, it zips together the equivalent cells in both matrices and check whether these are equal individually, i.e. in an 'element-wise' fashion. If we wanted to have check the full equivalence, we should have used:"
   ]
  },
  {
   "cell_type": "code",
   "execution_count": 192,
   "metadata": {
    "collapsed": false
   },
   "outputs": [
    {
     "name": "stdout",
     "output_type": "stream",
     "text": [
      "True\n"
     ]
    }
   ],
   "source": [
    "print(np.array_equal(M_trans2, M_orig))"
   ]
  },
  {
   "cell_type": "markdown",
   "metadata": {},
   "source": [
    "Combining existing matrices into a new matrix is also a common operation. This can be achieved via, for instance, the lines: "
   ]
  },
  {
   "cell_type": "code",
   "execution_count": 193,
   "metadata": {
    "collapsed": false
   },
   "outputs": [
    {
     "name": "stdout",
     "output_type": "stream",
     "text": [
      "[[ 0.  0.  0.]\n",
      " [ 0.  0.  0.]]\n",
      "[[ 1.  1.  1.]\n",
      " [ 1.  1.  1.]]\n",
      "[[ 0.  0.  0.]\n",
      " [ 0.  0.  0.]]\n",
      "[[ 0.  0.  0.]\n",
      " [ 0.  0.  0.]\n",
      " [ 1.  1.  1.]\n",
      " [ 1.  1.  1.]\n",
      " [ 0.  0.  0.]\n",
      " [ 0.  0.  0.]]\n"
     ]
    }
   ],
   "source": [
    "M1 = np.zeros((2, 3))\n",
    "print(M1)\n",
    "M2 = np.ones((2, 3))\n",
    "print(M2)\n",
    "M3 = np.zeros((2, 3))\n",
    "print(M3)\n",
    "X = np.concatenate((M1, M2, M3))\n",
    "print(X)"
   ]
  },
  {
   "cell_type": "markdown",
   "metadata": {},
   "source": [
    "Here, we pass a tuple of matrices to `concatenate()`. Note that, by default, numpy will attempt to stack the matrices at level of rows (i.e. 'vertically'). Via the `axis` argument (which is 0 be default), we can control along which dimension the input matrices will be concatenated. In the following example, we join the matrices together as rows. Note that the `axis` parameter controls in which dimension we stack"
   ]
  },
  {
   "cell_type": "code",
   "execution_count": 194,
   "metadata": {
    "collapsed": false
   },
   "outputs": [
    {
     "name": "stdout",
     "output_type": "stream",
     "text": [
      "[[ 0.  0.  0.  1.  1.  1.  0.  0.  0.]\n",
      " [ 0.  0.  0.  1.  1.  1.  0.  0.  0.]]\n"
     ]
    }
   ],
   "source": [
    "X = np.concatenate((M1, M2, M3), axis=1)\n",
    "print(X)"
   ]
  },
  {
   "cell_type": "markdown",
   "metadata": {},
   "source": [
    "For such stacking operations, there exist two equivalent methods, namely `hstack()` for horizontal stacking and `vstack()` for vertical stacking:"
   ]
  },
  {
   "cell_type": "code",
   "execution_count": 195,
   "metadata": {
    "collapsed": false
   },
   "outputs": [
    {
     "name": "stdout",
     "output_type": "stream",
     "text": [
      "[[ 0.  0.  0.]\n",
      " [ 0.  0.  0.]\n",
      " [ 1.  1.  1.]\n",
      " [ 1.  1.  1.]\n",
      " [ 0.  0.  0.]\n",
      " [ 0.  0.  0.]]\n",
      "[[ 0.  0.  0.  1.  1.  1.  0.  0.  0.]\n",
      " [ 0.  0.  0.  1.  1.  1.  0.  0.  0.]]\n"
     ]
    }
   ],
   "source": [
    "X = np.vstack((M1, M2, M3)) # equivalent to np.concatenate(..., axis=0)\n",
    "print(X)\n",
    "X = np.hstack((M1, M2, M3)) # equivalent to np.concatenate(..., axis=1)\n",
    "print(X)"
   ]
  },
  {
   "cell_type": "markdown",
   "metadata": {},
   "source": [
    "Here too, we can only combine matrices which have compatible shapes:"
   ]
  },
  {
   "cell_type": "code",
   "execution_count": 211,
   "metadata": {
    "collapsed": false
   },
   "outputs": [],
   "source": [
    "M1 = np.zeros((3, 4))\n",
    "M2 = np.ones((4, 4))\n",
    "X = np.concatenate((M1, M2), axis=0) # does work\n",
    "#X = np.concatenate((M1, M2), axis=1) # does not work"
   ]
  }
 ],
 "metadata": {
  "kernelspec": {
   "display_name": "Python 3",
   "language": "python",
   "name": "python3"
  },
  "language_info": {
   "codemirror_mode": {
    "name": "ipython",
    "version": 3
   },
   "file_extension": ".py",
   "mimetype": "text/x-python",
   "name": "python",
   "nbconvert_exporter": "python",
   "pygments_lexer": "ipython3",
   "version": "3.4.3"
  }
 },
 "nbformat": 4,
 "nbformat_minor": 0
}
