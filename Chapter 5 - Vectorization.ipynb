{
 "cells": [
  {
   "cell_type": "markdown",
   "metadata": {},
   "source": [
    "# Vectorization"
   ]
  },
  {
   "cell_type": "markdown",
   "metadata": {},
   "source": [
    "Vectorization is a crucial and basic step in stylometric research: it refers to the process of turning text into numbers. More precisely, it refers to the creation of the two-dimensional `X` matrix, which we have been carelessly importing so far: in this matrix, the rows represent documents and the columns represent stylometric features, such as word frequencies. Vectorization is therefore closely related to feature extraction, or determining which stylistic properties should be extracted from documents to arrive at a reliable corpus representation, which is useful for stylometric research. While feature extraction has been a popular research topic in, for instance, authorship studies, there exist few reliable practical introductions to the topic. This is a shame: vectorization is a foundational preprocessing step in stylometry and it has a huge impact on all subsequent analytical steps. It is a pity that most papers are very explicit about the preprocessing steps taken, so that many practical questions remain unanswered:\n",
    "- Was punctuation removed?\n",
    "- Were texts lowercased?\n",
    "- What about character n-grams _across_ word boundaries?\n",
    "- Were pronouns deleted before or after calculating relative frequencies?\n",
    "- Was culling performed before or after segmenting texts into samples?\n",
    "- etc.\n",
    "\n",
    "This chapter is therefore entirely devoted to this important topic - partially to help raise awareness. The course repository comes with a module called `vectorization.py`, which contains a Vectorizer object which has been developed in the context of the work on `pystyl`. If you import this class, you can check out the documentation:"
   ]
  },
  {
   "cell_type": "code",
   "execution_count": 2,
   "metadata": {
    "collapsed": false
   },
   "outputs": [
    {
     "name": "stdout",
     "output_type": "stream",
     "text": [
      "Help on class Vectorizer in module vectorization:\n",
      "\n",
      "class Vectorizer(builtins.object)\n",
      " |  Vectorize texts into a sparse, two-dimensional\n",
      " |  matrix.\n",
      " |  \n",
      " |  Methods defined here:\n",
      " |  \n",
      " |  __init__(self, mfi=100, ngram_type='word', ngram_size=1, vocabulary=None, vector_space='tf', lowercase=True, min_df=0.0, max_df=1.0, ignore=[])\n",
      " |      Initialize the vectorizer by setting up a\n",
      " |      vectorization pipeline via sklearn as \n",
      " |      `self.transformer`\n",
      " |      \n",
      " |      Parameters\n",
      " |      ----------\n",
      " |      mfi: int, default=100\n",
      " |          The nb of most frequent items (words or\n",
      " |          ngrams) to extract.\n",
      " |      ngram_type: str, default='word'\n",
      " |          Set the type of features to be used\n",
      " |          for the ngram extraction:\n",
      " |          - 'word': individual tokens\n",
      " |          - 'char': character ngrams\n",
      " |          - 'char_wb': character ngrams (but not\n",
      " |              across word boundaries)\n",
      " |      ngram_size: int, default=1\n",
      " |          The length of the ngrams to be extracted.\n",
      " |      vocabulary: list, default=None\n",
      " |          Vectorize using an existing vocabulary.\n",
      " |      vector_space: str, default: 'tf'\n",
      " |          Which vector space to use (see below).\n",
      " |          Must be one of: 'tf', 'tf_scaled',\n",
      " |          'tf_std', 'tf_idf', 'bin'.\n",
      " |      lowercase: boolean, default=True\n",
      " |          Whether or not to lowercase the input texts.\n",
      " |      min_df: float, default=0.0\n",
      " |          Proportion of documents in which a feature\n",
      " |          should minimally occur.\n",
      " |          Useful to ignore low-frequency features.\n",
      " |      max_df: float, default=0.0\n",
      " |          Proportion of documents in which a feature\n",
      " |          should maximally occur.\n",
      " |          Useful for 'culling' and ignoring features\n",
      " |          which don't appear in enough texts.\n",
      " |      ignore: list(str), default=[]\n",
      " |          List of features to be ignored.\n",
      " |          Useful to manually remove e.g. stopwords or other\n",
      " |          unwanted items.\n",
      " |      \n",
      " |      Notes\n",
      " |      -----------\n",
      " |      The following vector space models are supported:\n",
      " |      - 'tf': simple relative term frequency model\n",
      " |      - 'tf_scaled': tf-model, but normalized using a MinMaxScaler\n",
      " |      - 'tf_std': tf-model, but normalized using a StdDevScaler\n",
      " |      - 'tf_idf': traditional tf-idf model\n",
      " |      - 'bin': binary model, only captures presence of features\n",
      " |  \n",
      " |  vectorize(self, texts)\n",
      " |      Vectorize input texts and store them in\n",
      " |      sparse format as `self.X`.\n",
      " |      \n",
      " |      Parameters\n",
      " |      ----------\n",
      " |      texts: 2D-list of strings\n",
      " |          The texts to be vectorized.\n",
      " |          Assumed untokenized input in the case of\n",
      " |          `ngram_type`='word', else expects\n",
      " |          continguous strings.\n",
      " |      \n",
      " |      Returns\n",
      " |      ----------\n",
      " |      X: array-like, [n_texts, n_features]\n",
      " |          Vectorized texts in sparse format.\n",
      " |  \n",
      " |  ----------------------------------------------------------------------\n",
      " |  Data descriptors defined here:\n",
      " |  \n",
      " |  __dict__\n",
      " |      dictionary for instance variables (if defined)\n",
      " |  \n",
      " |  __weakref__\n",
      " |      list of weak references to the object (if defined)\n",
      "\n"
     ]
    }
   ],
   "source": [
    "from vectorization import Vectorizer\n",
    "help(Vectorizer)"
   ]
  },
  {
   "cell_type": "markdown",
   "metadata": {},
   "source": [
    "As you can see, this vectorizer offers easy access to a variety of vectorization strategies. All this code is based on `sklearn` library, but seamlessly wraps around the different modules which are needed. Importantly, the `Vectorizer` offers access to a number of vectorization pipelines that are common in stylometry, but much less in other fields of Machine Learning. Let us load a larger corpus this time and test the vectorizer:"
   ]
  },
  {
   "cell_type": "code",
   "execution_count": 3,
   "metadata": {
    "collapsed": false
   },
   "outputs": [],
   "source": [
    "import glob\n",
    "import os\n",
    "\n",
    "authors, titles, texts = [], [], []\n",
    "for filename in glob.glob('data/victorian_large/*.txt'):\n",
    "    with open(filename, 'r') as f:\n",
    "        text = f.read()\n",
    "    author, title = os.path.basename(filename).replace('.txt', '').split('_')\n",
    "    authors.append(author)\n",
    "    titles.append(title)\n",
    "    texts.append(text)"
   ]
  },
  {
   "cell_type": "markdown",
   "metadata": {},
   "source": [
    "As you can see we loop over the txt-files under the `data/victorian_large` directory and end up with three lists (authors, titles, and the actual texts) which can easily zipped together:"
   ]
  },
  {
   "cell_type": "code",
   "execution_count": 5,
   "metadata": {
    "collapsed": false
   },
   "outputs": [
    {
     "name": "stdout",
     "output_type": "stream",
     "text": [
      "Agnes by ABronte\n",
      "Tenant by ABronte\n",
      "Emma by Austen\n",
      "Pride by Austen\n",
      "Sense by Austen\n",
      "Jane by CBronte\n",
      "Professor by CBronte\n",
      "Villette by CBronte\n",
      "Bleak by Dickens\n",
      "David by Dickens\n",
      "Hard by Dickens\n",
      "Wuthering by EBronte\n",
      "Adam by Eliot\n",
      "Middlemarch by Eliot\n",
      "Mill by Eliot\n",
      "Joseph by Fielding\n",
      "Tom by Fielding\n",
      "Clarissa by Richardson\n",
      "Pamela by Richardson\n",
      "Sentimental by Sterne\n",
      "Tristram by Sterne\n",
      "Barry by Thackeray\n",
      "Pendennis by Thackeray\n",
      "Vanity by Thackeray\n",
      "Barchester by Trollope\n",
      "Phineas by Trollope\n",
      "Prime by Trollope\n"
     ]
    }
   ],
   "source": [
    "for t, a in zip(titles, authors):\n",
    "    print(t, 'by', a)"
   ]
  },
  {
   "cell_type": "markdown",
   "metadata": {},
   "source": [
    "Let us start with some basic preprocessing. The function `preprocess()` below lowercases each text and only retains alphabetic characters (and whitespace). Additionally, to speed things up a bit, we truncate each document after the 200K first characters:"
   ]
  },
  {
   "cell_type": "code",
   "execution_count": 6,
   "metadata": {
    "collapsed": false
   },
   "outputs": [],
   "source": [
    "def preprocess(text, max_len=200000):\n",
    "    return ''.join([c for c in text.lower()\n",
    "                        if c.isalpha() or c.isspace()])[:max_len]"
   ]
  },
  {
   "cell_type": "markdown",
   "metadata": {},
   "source": [
    "Let us apply this new function:"
   ]
  },
  {
   "cell_type": "code",
   "execution_count": 7,
   "metadata": {
    "collapsed": false
   },
   "outputs": [],
   "source": [
    "for i in range(len(texts)):\n",
    "    texts[i] = preprocess(texts[i])"
   ]
  },
  {
   "cell_type": "markdown",
   "metadata": {},
   "source": [
    "We can now instantiate our vectorizer with some traditional settings; we will extract the 100 most frequent words and scale them using the per-column standard deviation. We limit this vectorizer to word unigrams (`ngram_size=1`) and we specify the 'culling' rule (cf. `min_df`) that words should be present in at least 70% of all texts:"
   ]
  },
  {
   "cell_type": "code",
   "execution_count": 8,
   "metadata": {
    "collapsed": false
   },
   "outputs": [],
   "source": [
    "vectorizer = Vectorizer(mfi=100,\n",
    "                        vector_space='tf_std',\n",
    "                        ngram_type='words',\n",
    "                        ngram_size=1,\n",
    "                        min_df=0.7)"
   ]
  },
  {
   "cell_type": "markdown",
   "metadata": {},
   "source": [
    "We can now use this object to vectorize our lists of documents:"
   ]
  },
  {
   "cell_type": "code",
   "execution_count": 9,
   "metadata": {
    "collapsed": false
   },
   "outputs": [
    {
     "name": "stdout",
     "output_type": "stream",
     "text": [
      "(27, 100)\n"
     ]
    }
   ],
   "source": [
    "X = vectorizer.vectorize(texts)\n",
    "print(X.shape)"
   ]
  },
  {
   "cell_type": "markdown",
   "metadata": {},
   "source": [
    "As requested, we indeed seem to have obtained a two-dimensional matrix, with for each text 100 feature columns. To find out to which words these columns correspond, we can access the vectorizer's `feature_names` attribute:"
   ]
  },
  {
   "cell_type": "code",
   "execution_count": 10,
   "metadata": {
    "collapsed": false
   },
   "outputs": [
    {
     "name": "stdout",
     "output_type": "stream",
     "text": [
      "['about', 'all', 'am', 'an', 'and', 'any', 'are', 'as', 'at', 'be', 'been', 'before', 'but', 'by', 'can', 'could', 'did', 'do', 'for', 'from', 'good', 'great', 'had', 'has', 'have', 'he', 'her', 'him', 'his', 'how', 'if', 'in', 'into', 'is', 'it', 'its', 'know', 'like', 'little', 'made', 'man', 'may', 'me', 'might', 'miss', 'more', 'mr', 'mrs', 'much', 'must', 'my', 'never', 'no', 'not', 'now', 'of', 'on', 'one', 'only', 'or', 'other', 'out', 'own', 'said', 'say', 'see', 'she', 'should', 'so', 'some', 'such', 'than', 'that', 'the', 'their', 'them', 'then', 'there', 'they', 'think', 'this', 'time', 'to', 'too', 'up', 'upon', 'very', 'was', 'we', 'well', 'were', 'what', 'when', 'which', 'who', 'will', 'with', 'would', 'you', 'your']\n"
     ]
    }
   ],
   "source": [
    "print(vectorizer.feature_names)"
   ]
  },
  {
   "cell_type": "markdown",
   "metadata": {},
   "source": [
    "Having such a module is great, but it also hides a lot of the interfacing which is needed with sklearn. In the next paragraphs, we will have a lot at the preprocessing functionality which sklearn offers to deal with text."
   ]
  },
  {
   "cell_type": "markdown",
   "metadata": {},
   "source": [
    "## Integer frequencies\n",
    "\n",
    "Calculating absolute frequencies of, for instance, words in texts is something that is rarely done in stylometry. Because we often work with texts of unequal length, it is typically safer to back off to relative frequencies. Nevertheless, it is good to know that sklearn's supports the extraction of absolute counts with its `CountVectorizer`:"
   ]
  },
  {
   "cell_type": "code",
   "execution_count": 11,
   "metadata": {
    "collapsed": false
   },
   "outputs": [
    {
     "name": "stdout",
     "output_type": "stream",
     "text": [
      "(27, 100)\n"
     ]
    }
   ],
   "source": [
    "from sklearn.feature_extraction.text import CountVectorizer\n",
    "vec = CountVectorizer(max_features=100)\n",
    "X = vec.fit_transform(texts)\n",
    "print(X.shape)"
   ]
  },
  {
   "cell_type": "markdown",
   "metadata": {},
   "source": [
    "Here, we immediately use the important `max_features` parameter, which controls how many of the most frequent words will be returned (cf. the 2nd dimension of the vectorized matrix). Notice that all the vectorization methods discussed here. are implemented as unsupervised methods in sklearn, so that they all have `fit()` and `transform()` methods. One warning is important here: if we check the data type of the matrix being returned, we see that this is not a simple `np.array`:"
   ]
  },
  {
   "cell_type": "code",
   "execution_count": 12,
   "metadata": {
    "collapsed": false
   },
   "outputs": [
    {
     "data": {
      "text/plain": [
       "scipy.sparse.csr.csr_matrix"
      ]
     },
     "execution_count": 12,
     "metadata": {},
     "output_type": "execute_result"
    }
   ],
   "source": [
    "type(X)"
   ]
  },
  {
   "cell_type": "markdown",
   "metadata": {},
   "source": [
    "We see that sklearn by default returns a so-called sparse matrix, which only explicitly stores non-zero values. While this very efficient for larger datasets, there are many methods which cannot deal with such sparse matrices - such as sklearn's `PCA`object, to give but one example. If memory is not that much of an issue, it is always safer to convert the sparse matrix back to a 'dense' array:"
   ]
  },
  {
   "cell_type": "code",
   "execution_count": 13,
   "metadata": {
    "collapsed": false
   },
   "outputs": [
    {
     "data": {
      "text/plain": [
       "numpy.ndarray"
      ]
     },
     "execution_count": 13,
     "metadata": {},
     "output_type": "execute_result"
    }
   ],
   "source": [
    "X = X.toarray()\n",
    "type(X)"
   ]
  },
  {
   "cell_type": "markdown",
   "metadata": {},
   "source": [
    "Finally, to access the names of the features which correspond to our columns in X, we can access the following function:"
   ]
  },
  {
   "cell_type": "code",
   "execution_count": 14,
   "metadata": {
    "collapsed": false
   },
   "outputs": [
    {
     "name": "stdout",
     "output_type": "stream",
     "text": [
      "['about', 'all', 'am', 'an', 'and', 'any', 'are', 'as', 'at', 'be', 'been', 'before', 'but', 'by', 'can', 'could', 'did', 'do', 'for', 'from', 'good', 'great', 'had', 'has', 'have', 'he', 'her', 'him', 'his', 'how', 'if', 'in', 'into', 'is', 'it', 'its', 'know', 'like', 'little', 'made', 'man', 'may', 'me', 'might', 'miss', 'more', 'mr', 'mrs', 'much', 'must', 'my', 'never', 'no', 'not', 'now', 'of', 'on', 'one', 'only', 'or', 'other', 'out', 'own', 'said', 'say', 'see', 'she', 'should', 'so', 'some', 'such', 'than', 'that', 'the', 'their', 'them', 'then', 'there', 'they', 'think', 'this', 'time', 'to', 'too', 'up', 'upon', 'very', 'was', 'we', 'well', 'were', 'what', 'when', 'which', 'who', 'will', 'with', 'would', 'you', 'your']\n"
     ]
    }
   ],
   "source": [
    "print(vec.get_feature_names())"
   ]
  },
  {
   "cell_type": "markdown",
   "metadata": {},
   "source": [
    "Of course, with `max_features` set to 100, this list is dominated by function words, which are typically the most frequent items in a corpus of texts. Note that extracting binary features - which simply records the absence or presence of items in texts - is also supported, although this is of course even less common in current stylometry:"
   ]
  },
  {
   "cell_type": "code",
   "execution_count": 15,
   "metadata": {
    "collapsed": false
   },
   "outputs": [
    {
     "name": "stdout",
     "output_type": "stream",
     "text": [
      "[[1 1 1 ..., 1 1 1]\n",
      " [1 1 1 ..., 1 1 1]\n",
      " [1 1 1 ..., 1 1 1]\n",
      " ..., \n",
      " [1 1 1 ..., 1 1 1]\n",
      " [1 1 1 ..., 1 1 1]\n",
      " [1 1 1 ..., 1 1 1]]\n"
     ]
    }
   ],
   "source": [
    "vec = CountVectorizer(max_features=50, binary=True)\n",
    "X = vec.fit_transform(texts).toarray()\n",
    "print(X)"
   ]
  },
  {
   "cell_type": "markdown",
   "metadata": {},
   "source": [
    "When using only 50 top-frequent features, it is logical that these are present in most of our texts."
   ]
  },
  {
   "cell_type": "markdown",
   "metadata": {},
   "source": [
    "## Real-valued Frequencies"
   ]
  },
  {
   "cell_type": "markdown",
   "metadata": {},
   "source": [
    "Working with relative frequencies is much more common in stylometry. Although this is somewhat counter-intuitive, `sklearn` does not have a dedicated function for this vectorization strategy. Rather, one must work with the TfidfVectorizer, which can be imported as follows:"
   ]
  },
  {
   "cell_type": "code",
   "execution_count": 16,
   "metadata": {
    "collapsed": false
   },
   "outputs": [],
   "source": [
    "from sklearn.feature_extraction.text import TfidfVectorizer"
   ]
  },
  {
   "cell_type": "markdown",
   "metadata": {},
   "source": [
    "`Tfidf` stands for term-frequency/inverse-document-frequency. This particular vectorization method is one of the golden oldies in Information Retrieval: it gives more importance to rare words in texts, by dividing the relative frequency of a 'term' (i.e. 'word') in a document by the inverse of the document. Thus, the rarer a word, the more its importance will be boosted in this model. Note how this model in fact captures the inverse intuition of Burrows's Delta, which gives more weight to highly common words. Tfidf is not very common in stylometry or authorship attribution in particular, although one could easily argue that it is not necessarily useless: if a rare word occurs in two anonymous texts, this does seem to increase the likelihood that both documents were authored by the same individual. In many ways, the TfidfVectorizer can be parametrized in the same way as the CountVectorizer, the main exception being that it will eventually yield a matrix of real number, instead of integers:"
   ]
  },
  {
   "cell_type": "code",
   "execution_count": 17,
   "metadata": {
    "collapsed": false
   },
   "outputs": [
    {
     "name": "stdout",
     "output_type": "stream",
     "text": [
      "['and', 'he', 'her', 'in', 'it', 'of', 'that', 'the', 'to', 'was']\n",
      "[[ 0.52575819  0.12259351  0.1361753   0.18835796  0.14010687  0.31631271\n",
      "   0.13188632  0.50681517  0.47214586  0.19407661]\n",
      " [ 0.5167485   0.07367298  0.18919775  0.17605421  0.16948244  0.30783545\n",
      "   0.13939066  0.53750146  0.447572    0.16913656]\n",
      " [ 0.46035051  0.17061405  0.20904063  0.19904972  0.2071193   0.41692847\n",
      "   0.13910424  0.45189666  0.44613267  0.19059587]\n",
      " [ 0.4025089   0.16591402  0.22729477  0.21167058  0.16182197  0.39618482\n",
      "   0.17112208  0.5007181   0.46946971  0.17447012]\n",
      " [ 0.40231894  0.15788139  0.23737932  0.21620464  0.20023076  0.42980888\n",
      "   0.13522077  0.47995944  0.43723859  0.21323275]\n",
      " [ 0.4786827   0.05292141  0.15295995  0.19563851  0.13964424  0.34620845\n",
      "   0.10754996  0.61013265  0.38069273  0.19563851]\n",
      " [ 0.45124529  0.11094975  0.13440557  0.22525033  0.13738409  0.40768448\n",
      "   0.12993779  0.59905419  0.34923109  0.18020027]\n",
      " [ 0.45466908  0.09994391  0.24455972  0.24039539  0.14423723  0.32406056\n",
      "   0.13818003  0.57392033  0.36797531  0.23660964]\n",
      " [ 0.46997803  0.13418311  0.10451448  0.25285762  0.15980602  0.33579492\n",
      "   0.16486317  0.62506404  0.32332061  0.15980602]\n",
      " [ 0.48980216  0.13955257  0.11697789  0.22540476  0.20111988  0.32117614\n",
      "   0.20385621  0.55786824  0.35059163  0.23840231]\n",
      " [ 0.45429342  0.1733393   0.15383863  0.23075794  0.17875615  0.36906826\n",
      "   0.1625056   0.58465902  0.34884534  0.16900582]\n",
      " [ 0.54154418  0.20681018  0.15386393  0.16594562  0.1407162   0.27645759\n",
      "   0.12970054  0.57352513  0.39407644  0.12437038]\n",
      " [ 0.44400914  0.12235381  0.13864454  0.18058451  0.12096736  0.30709766\n",
      "   0.1434971   0.65821496  0.3878581   0.15112255]\n",
      " [ 0.34645367  0.1676139   0.17922687  0.22490456  0.14864604  0.44516393\n",
      "   0.2094206   0.54851938  0.40993791  0.19006564]\n",
      " [ 0.43735697  0.14742796  0.20692973  0.20200283  0.17509439  0.31380552\n",
      "   0.15083889  0.59956562  0.38922497  0.20124485]\n",
      " [ 0.36303153  0.18876322  0.08268685  0.22038847  0.11925355  0.39762164\n",
      "   0.14231363  0.65655338  0.37027898  0.12814815]\n",
      " [ 0.3124657   0.13829379  0.13209667  0.23027221  0.11905008  0.44945483\n",
      "   0.13894612  0.63536866  0.39335452  0.1373153 ]\n",
      " [ 0.40169724  0.1943819   0.14188738  0.21302126  0.16242871  0.34387718\n",
      "   0.24079011  0.42984648  0.57439662  0.13427947]\n",
      " [ 0.64599705  0.22787251  0.11823573  0.16517174  0.17412899  0.22536447\n",
      "   0.15908081  0.29487275  0.52919448  0.1268347 ]\n",
      " [ 0.3734745   0.11876429  0.08289386  0.22336126  0.22727988  0.36593869\n",
      "   0.09615687  0.68364823  0.33036969  0.13534306]\n",
      " [ 0.36108594  0.13216217  0.02899476  0.27005587  0.16958565  0.45953327\n",
      "   0.15340252  0.63316469  0.30882793  0.1365451 ]\n",
      " [ 0.45840952  0.0943331   0.07121224  0.2167195   0.08755098  0.38226483\n",
      "   0.12886024  0.64954193  0.31197743  0.19822281]\n",
      " [ 0.48541875  0.22037045  0.13101476  0.21221976  0.07667684  0.33357445\n",
      "   0.11441151  0.64843251  0.26474642  0.1811264 ]\n",
      " [ 0.47757949  0.1403165   0.14157495  0.22054231  0.08116964  0.33380227\n",
      "   0.10822618  0.66194154  0.29164439  0.17492371]\n",
      " [ 0.34791326  0.20964387  0.10183555  0.18187054  0.10093964  0.36194924\n",
      "   0.17321003  0.67820687  0.35418466  0.18694738]\n",
      " [ 0.34282622  0.2994648   0.07960885  0.22290479  0.14465098  0.35773171\n",
      "   0.24831188  0.54947048  0.42514516  0.20867683]\n",
      " [ 0.31347888  0.28813673  0.11907337  0.18919822  0.16281461  0.34506977\n",
      "   0.24647841  0.54676549  0.4710862   0.20377863]]\n"
     ]
    }
   ],
   "source": [
    "vec = TfidfVectorizer(max_features=10)\n",
    "X = vec.fit_transform(texts).toarray()\n",
    "print(vec.get_feature_names())\n",
    "print(X)"
   ]
  },
  {
   "cell_type": "markdown",
   "metadata": {},
   "source": [
    "To create a vector space that simple has relative frequencies (which have not been normalized using IDF's), we can simple add the following parameter:"
   ]
  },
  {
   "cell_type": "code",
   "execution_count": 18,
   "metadata": {
    "collapsed": false
   },
   "outputs": [
    {
     "name": "stdout",
     "output_type": "stream",
     "text": [
      "['and', 'he', 'her', 'in', 'it', 'of', 'that', 'the', 'to', 'was']\n"
     ]
    }
   ],
   "source": [
    "vec = TfidfVectorizer(max_features=10,\n",
    "                      use_idf=False)\n",
    "X = vec.fit_transform(texts).toarray()\n",
    "print(vec.get_feature_names())"
   ]
  },
  {
   "cell_type": "markdown",
   "metadata": {},
   "source": [
    "Of course, the list of features extracted is not altered by changing this argument, but they values will have changed."
   ]
  },
  {
   "cell_type": "markdown",
   "metadata": {},
   "source": [
    "## Feature types"
   ]
  },
  {
   "cell_type": "markdown",
   "metadata": {},
   "source": [
    "So far, we have only considered word frequencies as stylometric style markers - where we naively define a word as a space-free string of alphabetic characters. Implicitly, we have been setting the `analyzer` argument to `'word'`:"
   ]
  },
  {
   "cell_type": "code",
   "execution_count": 19,
   "metadata": {
    "collapsed": false
   },
   "outputs": [
    {
     "name": "stdout",
     "output_type": "stream",
     "text": [
      "['and', 'he', 'her', 'in', 'it', 'of', 'that', 'the', 'to', 'was']\n"
     ]
    }
   ],
   "source": [
    "vec = TfidfVectorizer(max_features=10,\n",
    "                      analyzer='word')\n",
    "X = vec.fit_transform(texts)\n",
    "print(vec.get_feature_names())"
   ]
  },
  {
   "cell_type": "markdown",
   "metadata": {},
   "source": [
    "It becomes clear, therefore, that sklearn is performing some sort of tokenization internally. Inconveniently, it also removes certain words: can you find out which?"
   ]
  },
  {
   "cell_type": "markdown",
   "metadata": {},
   "source": [
    "To override this default behaviour, we need a little hack. One common solution is to create our own `analyzer` (i.e. tokenizer) function and pass that to our vectorizer:"
   ]
  },
  {
   "cell_type": "code",
   "execution_count": 20,
   "metadata": {
    "collapsed": false
   },
   "outputs": [
    {
     "name": "stdout",
     "output_type": "stream",
     "text": [
      "['a', 'and', 'he', 'i', 'in', 'of', 'that', 'the', 'to', 'was']\n"
     ]
    }
   ],
   "source": [
    "def identity(x):\n",
    "    return x.split()\n",
    "\n",
    "vec = TfidfVectorizer(max_features=10,\n",
    "                      analyzer=identity,\n",
    "                      use_idf=False)\n",
    "X = vec.fit_transform(texts)\n",
    "print(vec.get_feature_names())"
   ]
  },
  {
   "cell_type": "markdown",
   "metadata": {},
   "source": [
    "Does this solve our issue?\n",
    "\n",
    "Additionally, sklearn supports the extraction of character n-grams, which are also a common feature type in stylometry. Interestingly, it allows us to specify an `ngram_range`: can you figure out what it achieves? (Executing the block below might take a while...)"
   ]
  },
  {
   "cell_type": "code",
   "execution_count": 21,
   "metadata": {
    "collapsed": false
   },
   "outputs": [
    {
     "name": "stdout",
     "output_type": "stream",
     "text": [
      "[' a', ' t', 'd ', 'e ', 'er', 'he', 'in', 's ', 't ', 'th']\n",
      "[' a', ' h', ' i', ' m', ' o', ' s', ' t', ' th', ' w', 'an', 'd ', 'e ', 'en', 'er', 'ha', 'he', 'he ', 'in', 'n ', 'nd', 'o ', 'on', 'ou', 'r ', 're', 's ', 't ', 'th', 'the', 'y ']\n"
     ]
    }
   ],
   "source": [
    "vec = TfidfVectorizer(max_features=10,\n",
    "                      analyzer='char',\n",
    "                      ngram_range=(2, 2))\n",
    "X = vec.fit_transform(texts)\n",
    "print(vec.get_feature_names())\n",
    "\n",
    "vec = TfidfVectorizer(max_features=30,\n",
    "                      analyzer='char',\n",
    "                      ngram_range=(2, 3))\n",
    "X = vec.fit_transform(texts)\n",
    "print(vec.get_feature_names())"
   ]
  },
  {
   "cell_type": "markdown",
   "metadata": {},
   "source": [
    "Here, we have to watch out of course, because specifying such ranges will interfere with the `max_features` parameter. Because bigrams are much more frequent than tetragrams, for instance, the tetragrams might never make it to to frequency table, if the `max_features` paramater isn't high enough! Naturally we could gain more control over this extraction process, by running two independent vectorizers, and stacking their respective outcomes:"
   ]
  },
  {
   "cell_type": "code",
   "execution_count": 23,
   "metadata": {
    "collapsed": false
   },
   "outputs": [
    {
     "name": "stdout",
     "output_type": "stream",
     "text": [
      "(27, 50)\n",
      "(27, 100)\n",
      "(27, 150)\n"
     ]
    }
   ],
   "source": [
    "vec = TfidfVectorizer(max_features=50,\n",
    "                      analyzer='char',\n",
    "                      ngram_range=(2, 2))\n",
    "X1 = vec.fit_transform(texts).toarray()\n",
    "\n",
    "vec = TfidfVectorizer(max_features=100,\n",
    "                      analyzer='char',\n",
    "                      ngram_range=(3, 3))\n",
    "X2 = vec.fit_transform(texts).toarray()\n",
    "\n",
    "import numpy as np\n",
    "print(X1.shape)\n",
    "print(X2.shape)\n",
    "X = np.hstack((X1, X2))\n",
    "print(X.shape)"
   ]
  },
  {
   "cell_type": "markdown",
   "metadata": {},
   "source": [
    "Here, we finally obtain a matrix with all features."
   ]
  },
  {
   "cell_type": "markdown",
   "metadata": {},
   "source": [
    "## Controlling the vocabulary\n",
    "\n",
    "In this final section, it is worth discussing another set of parameters in the signatures of the sklearn vectorizers, that are especially useful for stylometric research. Culling is a good issue to start with. Although 'culling' is used in a number of different meanings, it typically means that we remove words which aren't well distributed enough over the texts in the corpus. If a specific word - e.g. a character's name - is extremely frequent in only one text, it might end in our list of most frequent features, even though it doesn't scale well to other texts. Using 'culling' we specify the minimum proportion of documents in which a feature should occur, before it is allowed inside the vectorizer's vocabulary. In the sklearn vectorizers, this culling property can be set using the `min_df` argument. Here we see of the 1000 columns we requested, only 615 remain because of the culling:"
   ]
  },
  {
   "cell_type": "code",
   "execution_count": 24,
   "metadata": {
    "collapsed": false
   },
   "outputs": [
    {
     "name": "stdout",
     "output_type": "stream",
     "text": [
      "615\n"
     ]
    }
   ],
   "source": [
    "vec = TfidfVectorizer(max_features=1000, min_df=.95)\n",
    "X = vec.fit_transform(texts)\n",
    "print(X.shape[1])"
   ]
  },
  {
   "cell_type": "markdown",
   "metadata": {},
   "source": [
    "Likewise, it is also possible to specify a `max_df`, or the proportion of documents in which an item should occur. This setting might be useful if you wish to remove the focus in your experiments on function words only, and also take into consideration some items from lower frequency strata."
   ]
  },
  {
   "cell_type": "code",
   "execution_count": 25,
   "metadata": {
    "collapsed": false
   },
   "outputs": [
    {
     "name": "stdout",
     "output_type": "stream",
     "text": [
      "['ada', 'adam', 'adams', 'allworthy', 'amelia', 'archdeacon', 'arthur', 'barchester', 'barry', 'bennet', 'bessie', 'bingley', 'bishop', 'bounderby', 'brady', 'brooke', 'casaubon', 'catherine', 'celia', 'chancellor', 'collins', 'colonel', 'crawley', 'crimsworth', 'darcy', 'dashwood', 'dobbin', 'dorothea', 'dr', 'duke', 'edward', 'elinor', 'eliza', 'elizabeth', 'elton', 'emma', 'erle', 'finn', 'fitzgibbon', 'fleur', 'glegg', 'gradgrind', 'graham', 'grantly', 'harding', 'harlowe', 'harriet', 'hath', 'heathcliff', 'helen', 'james', 'jarndyce', 'jellyby', 'jervis', 'joseph', 'kennedy', 'knightley', 'la', 'laura', 'le', 'linton', 'lopez', 'louisa', 'lovelace', 'maggie', 'major', 'marianne', 'monsieur', 'murdstone', 'osborne', 'pamela', 'paris', 'parliament', 'partridge', 'peggotty', 'pendennis', 'phineas', 'pitt', 'proudie', 'pullet', 'pupils', 'quin', 'quoth', 'rebecca', 'reed', 'richard', 'roby', 'schoolroom', 'sedley', 'seth', 'slope', 'temple', 'toby', 'trim', 'tulliver', 'weston', 'wharton', 'wi', 'willoughby', 'woodhouse']\n"
     ]
    }
   ],
   "source": [
    "vec = TfidfVectorizer(max_features=100, max_df=.40)\n",
    "X = vec.fit_transform(texts)\n",
    "print(vec.get_feature_names())"
   ]
  },
  {
   "cell_type": "markdown",
   "metadata": {},
   "source": [
    "As you can see, the `max_df` takes us away from the high-frequence function words, with a lot of proper nouns coming through. By the way: make sure that you specify `min_df` and `max_df` as floats: it you specify them as integers, sklearn will interpret these number as the minimum or maximum number of individual documents in which a term should occur.\n",
    "\n",
    "Finally, it is good to know that we can also manually specify vocabularies, through the `vocabulary` argument. This way, we can exercise a much tighther control over which words go into a procedure - and manually remove words from a previous analysis, if necessary."
   ]
  },
  {
   "cell_type": "code",
   "execution_count": 227,
   "metadata": {
    "collapsed": false
   },
   "outputs": [
    {
     "name": "stdout",
     "output_type": "stream",
     "text": [
      "['my', 'i', 'we']\n"
     ]
    }
   ],
   "source": [
    "vec = TfidfVectorizer(vocabulary=('my', 'i', 'we'))\n",
    "X = vec.fit_transform(texts)\n",
    "print(vec.get_feature_names())"
   ]
  },
  {
   "cell_type": "markdown",
   "metadata": {
    "collapsed": true
   },
   "source": [
    "-----------------------"
   ]
  }
 ],
 "metadata": {
  "kernelspec": {
   "display_name": "Python 3",
   "language": "python",
   "name": "python3"
  },
  "language_info": {
   "codemirror_mode": {
    "name": "ipython",
    "version": 3
   },
   "file_extension": ".py",
   "mimetype": "text/x-python",
   "name": "python",
   "nbconvert_exporter": "python",
   "pygments_lexer": "ipython3",
   "version": "3.4.3"
  }
 },
 "nbformat": 4,
 "nbformat_minor": 0
}
