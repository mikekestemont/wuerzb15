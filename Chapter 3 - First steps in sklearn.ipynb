{
 "cells": [
  {
   "cell_type": "markdown",
   "metadata": {},
   "source": [
    "#Chapter 3 - First steps in Sklearn\n",
    "\n",
    "In this chapter, we make our first steps using `scikit-learn` (commonly abbreviated to `sklearn`), a marvellous Python library for Machine Learning, which is actively being developed by a large and enthousiastic community. The excellent documentation of the package etc. can be found [here](http://scikit-learn.org/stable/). The library that comes with `sklearn` is excellent for supervised as well as unsupervised procedures. In this chapter, we will have a look at amongst others Principal Components Analysis, as a representative example of unsupervised learning. In the next chapter, we will focus on how sklearn can be used for and Nearest Neighbour Classification (AKA Burrows's Delta), as well as vectorization and feature extraction."
   ]
  },
  {
   "cell_type": "markdown",
   "metadata": {},
   "source": [
    "Sklearn offers fast and efficient implementations of an impressive series of state-of-the-art algorithms in Machine Learning. Its main strength is that all these methods can used using the same function calls. Take the example of a traditional classifier, which as a supervised algorithm is first trained on some annotated data and then applied to some unseen data. All classifiers in sklearn can be used in the following way (don't execute the following code blocks, they are just mockups):"
   ]
  },
  {
   "cell_type": "code",
   "execution_count": null,
   "metadata": {
    "collapsed": false
   },
   "outputs": [],
   "source": [
    "clf = SomeClassifier(arg1='foo', arg2='foo2')\n",
    "clf.fit(X_train, y_train)\n",
    "predictions = clf.predict(X_test)"
   ]
  },
  {
   "cell_type": "markdown",
   "metadata": {},
   "source": [
    "This is the standard procedure for supervised algorithms for unsupervised algorithms, such as Principal Components Analysis a similar procedure exists:"
   ]
  },
  {
   "cell_type": "code",
   "execution_count": null,
   "metadata": {
    "collapsed": false
   },
   "outputs": [],
   "source": [
    "m = SomeMethod(arg1='foo', arg2='foo2')\n",
    "clf.fit(X)\n",
    "X_bar = clf.transform(X)"
   ]
  },
  {
   "cell_type": "markdown",
   "metadata": {},
   "source": [
    "Here, we instantiate the method and then apply it to the data that we have (`X`) via the `fit()` method. After fitting our method on the data, we can use it to `transform()` our data to some new format. Conveniently, there is also a convenience method `fit_transform()`:"
   ]
  },
  {
   "cell_type": "code",
   "execution_count": null,
   "metadata": {
    "collapsed": false
   },
   "outputs": [],
   "source": [
    "m = SomeMethod(arg1='foo', arg2='foo2')\n",
    "X_bar = clf.fit_transform(X)"
   ]
  },
  {
   "cell_type": "markdown",
   "metadata": {},
   "source": [
    "This will probably look a bit abstract for now, so let's delve into Principal Components Analysis as a case study to introduce sklearn's powerful capabilities."
   ]
  },
  {
   "cell_type": "markdown",
   "metadata": {},
   "source": [
    "##Principal Components Analysis\n",
    "\n",
    "###The basics\n",
    "\n",
    "Principal Components Analysis or PCA is a commonly used exploratory technique in stylometry. Let us have a look at our Victorian data matrix again:"
   ]
  },
  {
   "cell_type": "code",
   "execution_count": 1,
   "metadata": {
    "collapsed": false
   },
   "outputs": [
    {
     "name": "stdout",
     "output_type": "stream",
     "text": [
      "(9, 100)\n"
     ]
    }
   ],
   "source": [
    "import pickle\n",
    "titles, authors, words, X = pickle.load(open(\"dummy.p\", \"rb\"))\n",
    "print(X.shape)"
   ]
  },
  {
   "cell_type": "markdown",
   "metadata": {},
   "source": [
    "As you can see, this data matrix is fairly high-dimensional, since we work with 100 word frequencies: while we can easily plot texts in two, or perhaps three dimensions, it is much more difficult to think about data in 100 dimensions. PCA is one of the techniques for so-called 'dimension reduction' which is commonly used: it will attempt to convert our original 9 by 100 matrix, to a much lower-dimensional matrix, such as a 9 x 2 matrix. The newly created columns are called principal components and the idea is that they offer a summary of the original 9 x 100 matrix that is maximally faithful to the original structure. This 'column reduction' is easily achieved in sklearn:"
   ]
  },
  {
   "cell_type": "code",
   "execution_count": 2,
   "metadata": {
    "collapsed": false
   },
   "outputs": [],
   "source": [
    "from sklearn.decomposition import PCA\n",
    "pca = PCA(n_components=2)"
   ]
  },
  {
   "cell_type": "markdown",
   "metadata": {},
   "source": [
    "We first instantiate a PCA object, indicating that we wish to reduce our 9 x 100 matrix to a 9 x 2 matrix, only retaining the 2 most important components. We can fit our method to our data:"
   ]
  },
  {
   "cell_type": "code",
   "execution_count": 3,
   "metadata": {
    "collapsed": false
   },
   "outputs": [
    {
     "data": {
      "text/plain": [
       "PCA(copy=True, n_components=2, whiten=False)"
      ]
     },
     "execution_count": 3,
     "metadata": {},
     "output_type": "execute_result"
    }
   ],
   "source": [
    "pca.fit(X)"
   ]
  },
  {
   "cell_type": "markdown",
   "metadata": {},
   "source": [
    "After running the PCA algorithm, we can apply the reduction to our original data:"
   ]
  },
  {
   "cell_type": "code",
   "execution_count": 4,
   "metadata": {
    "collapsed": false
   },
   "outputs": [
    {
     "name": "stdout",
     "output_type": "stream",
     "text": [
      "(9, 2)\n"
     ]
    }
   ],
   "source": [
    "X_bar = pca.transform(X)\n",
    "print(X_bar.shape)"
   ]
  },
  {
   "cell_type": "markdown",
   "metadata": {},
   "source": [
    "By inspecting the newly created object's shape, we can see that we indeed obtained the desired reduced matrix. In shorthand, we could also have used:"
   ]
  },
  {
   "cell_type": "code",
   "execution_count": 5,
   "metadata": {
    "collapsed": false
   },
   "outputs": [
    {
     "name": "stdout",
     "output_type": "stream",
     "text": [
      "(9, 2)\n"
     ]
    }
   ],
   "source": [
    "X_bar = pca.fit_transform(X)\n",
    "print(X_bar.shape)"
   ]
  },
  {
   "cell_type": "markdown",
   "metadata": {},
   "source": [
    "This yields the exact same result. Let us now have a look at `X_bar`: "
   ]
  },
  {
   "cell_type": "code",
   "execution_count": 6,
   "metadata": {
    "collapsed": false
   },
   "outputs": [
    {
     "name": "stdout",
     "output_type": "stream",
     "text": [
      "[[-0.21422682  0.0149524 ]\n",
      " [-0.1749053   0.0171884 ]\n",
      " [-0.19413127  0.03442792]\n",
      " [ 0.08266238 -0.06842948]\n",
      " [ 0.05524634 -0.24668243]\n",
      " [ 0.01566568  0.00099027]\n",
      " [ 0.157103   -0.08630592]\n",
      " [ 0.14538217  0.17896108]\n",
      " [ 0.12720382  0.15489774]]\n"
     ]
    }
   ],
   "source": [
    "print(X_bar)"
   ]
  },
  {
   "cell_type": "markdown",
   "metadata": {},
   "source": [
    "We see that we have obtained a score for each text in both of the two principal components. As is common in stylometry, we will now plot the texts in the newly created space defined by the two principal components. For this, we can again use matplotlib, in tandem with seaborn: "
   ]
  },
  {
   "cell_type": "code",
   "execution_count": 7,
   "metadata": {
    "collapsed": true
   },
   "outputs": [],
   "source": [
    "%matplotlib inline\n",
    "import matplotlib.pyplot as plt\n",
    "import seaborn as sns"
   ]
  },
  {
   "cell_type": "code",
   "execution_count": 7,
   "metadata": {
    "collapsed": false
   },
   "outputs": [
    {
     "data": {
      "text/plain": [
       "<matplotlib.collections.PathCollection at 0x10c369d30>"
      ]
     },
     "execution_count": 7,
     "metadata": {},
     "output_type": "execute_result"
    },
    {
     "data": {
      "image/png": "[encoded data removed]",
      "text/plain": [
       "<matplotlib.figure.Figure at 0x10c190048>"
      ]
     },
     "metadata": {},
     "output_type": "display_data"
    }
   ],
   "source": [
    "fig, ax1 = sns.plt.subplots()  \n",
    "x1, x2 = X_bar[:,0], X_bar[:,1] # select coordinates via numpy indexing!\n",
    "ax1.scatter(x1, x2, 100)"
   ]
  },
  {
   "cell_type": "markdown",
   "metadata": {},
   "source": [
    "As you can see, we see a canvas appear with a number of dots. In our case, however, it will be more informative to remove the dots, and annotate them with the titles corresponding with each dot. We therefore first plot the position labels without any dot:"
   ]
  },
  {
   "cell_type": "code",
   "execution_count": 8,
   "metadata": {
    "collapsed": false
   },
   "outputs": [
    {
     "data": {
      "text/plain": [
       "<matplotlib.collections.PathCollection at 0x10c258ef0>"
      ]
     },
     "execution_count": 8,
     "metadata": {},
     "output_type": "execute_result"
    },
    {
     "data": {
      "image/png": "[encoded data removed]",
      "text/plain": [
       "<matplotlib.figure.Figure at 0x10c1afc18>"
      ]
     },
     "metadata": {},
     "output_type": "display_data"
    }
   ],
   "source": [
    "fig, ax1 = sns.plt.subplots()  \n",
    "x1, x2 = X_bar[:,0], X_bar[:,1] # select coordinates via numpy indexing!\n",
    "ax1.scatter(x1, x2, 100, edgecolors='none', facecolors='none')"
   ]
  },
  {
   "cell_type": "markdown",
   "metadata": {},
   "source": [
    "And now we add the text labels:"
   ]
  },
  {
   "cell_type": "code",
   "execution_count": 9,
   "metadata": {
    "collapsed": false
   },
   "outputs": [
    {
     "data": {
      "image/png": "[encoded data removed]",
      "text/plain": [
       "<matplotlib.figure.Figure at 0x10c1d7b00>"
      ]
     },
     "metadata": {},
     "output_type": "display_data"
    }
   ],
   "source": [
    "fig, ax1 = sns.plt.subplots()  \n",
    "x1, x2 = X_bar[:,0], X_bar[:,1] # select coordinates via numpy indexing!\n",
    "ax1.scatter(x1, x2, 100, edgecolors='none', facecolors='none')\n",
    "for x, y, title in zip(x1, x2, titles):\n",
    "    ax1.text(x, y, title, ha='center', va=\"center\")"
   ]
  },
  {
   "cell_type": "markdown",
   "metadata": {},
   "source": [
    "Here, we can see now how the horizontal spread captures the distinction between Austen's novels and the author author (which by convention represents the first components). The second, vertically displayed components, on the other hand, seems more sensitive to the difference between Thackeray and Dickens. PCA is definitely not the only technique which is nowadays used for dimension reduction, and a bunch of other techniques are equally useful for this problem of dimension reduction. One good example is Multi-Dimensional Scaling, which will result in a similarly reduced or condesed matrix. Luckily, because of sklearn's strict interfacing, we only have to change minor details in our code to re-run the procedure for MDS:"
   ]
  },
  {
   "cell_type": "code",
   "execution_count": 10,
   "metadata": {
    "collapsed": false
   },
   "outputs": [
    {
     "name": "stdout",
     "output_type": "stream",
     "text": [
      "(9, 2)\n"
     ]
    },
    {
     "data": {
      "image/png": "[encoded data removed]",
      "text/plain": [
       "<matplotlib.figure.Figure at 0x109f6b160>"
      ]
     },
     "metadata": {},
     "output_type": "display_data"
    }
   ],
   "source": [
    "from sklearn.manifold import MDS\n",
    "mds = MDS(n_components=2)\n",
    "X_bar = mds.fit_transform(X)\n",
    "print(X_bar.shape)\n",
    "fig, ax1 = sns.plt.subplots()  \n",
    "x1, x2 = X_bar[:,0], X_bar[:,1] # select coordinates via numpy indexing!\n",
    "ax1.scatter(x1, x2, 100, edgecolors='none', facecolors='none')\n",
    "for x, y, title in zip(x1, x2, titles):\n",
    "    ax1.text(x, y, title, ha='center', va=\"center\")"
   ]
  },
  {
   "cell_type": "markdown",
   "metadata": {},
   "source": [
    "As you can see, a very similar structure arises from this analysis.\n",
    "\n",
    "###Adding loadings\n",
    "\n",
    "One particular advantage of such techniques that they do not need to function as black boxes, but they can actually inform us a lot about as to why this specific structure arises. In PCA, this can be achieved by overlaying our plot with the so-called 'loadings' for the original words: these will show us how specific words contribute to the oppositions created in the plots above. The loadings can be retrieved from the PCA object as follows:"
   ]
  },
  {
   "cell_type": "code",
   "execution_count": 11,
   "metadata": {
    "collapsed": false
   },
   "outputs": [
    {
     "name": "stdout",
     "output_type": "stream",
     "text": [
      "(2, 100)\n"
     ]
    }
   ],
   "source": [
    "pca = PCA(n_components=2)\n",
    "X_bar = pca.fit_transform(X)\n",
    "loadings = pca.components_\n",
    "print(loadings.shape)"
   ]
  },
  {
   "cell_type": "markdown",
   "metadata": {},
   "source": [
    "As you can see, the `loadings_` property of the `pca` object returns a 2 x 100 matrix which holds for each of the 2 principal components a score for each word in our vocabulary of 100. These scores will tell us how important the contribution of specific words was, when it comes to the creation of the principal components. To be able to interact more intuitively with these loadings, we now take the transpose the matrix:"
   ]
  },
  {
   "cell_type": "code",
   "execution_count": 12,
   "metadata": {
    "collapsed": false
   },
   "outputs": [
    {
     "name": "stdout",
     "output_type": "stream",
     "text": [
      "(100, 2)\n"
     ]
    }
   ],
   "source": [
    "loadings = loadings.transpose()\n",
    "print(loadings.shape)"
   ]
  },
  {
   "cell_type": "markdown",
   "metadata": {},
   "source": [
    "Let us now add these word loadings to our plots, and overlay our original graph with the word loadings in a lighter colour. To achieve this we actually need to add a second axis to the plot, because the word loadings have a scale that is different from the text's position. We can do that in a way that is precisely parallel to plotting the title labels:"
   ]
  },
  {
   "cell_type": "code",
   "execution_count": 13,
   "metadata": {
    "collapsed": false
   },
   "outputs": [
    {
     "data": {
      "image/png": "[encoded data removed]",
      "text/plain": [
       "<matplotlib.figure.Figure at 0x10c3d0898>"
      ]
     },
     "metadata": {},
     "output_type": "display_data"
    }
   ],
   "source": [
    "sns.set_style('white') # remove gridlines because of dual axes\n",
    "\n",
    "# we repeat the previous bit:\n",
    "fig, ax1 = sns.plt.subplots()  \n",
    "x1, x2 = X_bar[:,0], X_bar[:,1] # select coordinates via numpy indexing!\n",
    "ax1.scatter(x1, x2, 100, edgecolors='none', facecolors='none')\n",
    "for x, y, title in zip(x1, x2, titles):\n",
    "    ax1.text(x, y, title, ha='center', va=\"center\")\n",
    "\n",
    "ax2 = ax1.twinx().twiny()\n",
    "l1, l2 = loadings[:,0], loadings[:,1]\n",
    "ax2.scatter(l1, l2, 100, edgecolors='none',\n",
    "            facecolors='none') # first empty plot!\n",
    "for x, y, l in zip(l1, l2, words):\n",
    "    ax2.text(x, y, l ,ha='center', va=\"center\",\n",
    "             size=8, color=\"darkgrey\")"
   ]
  },
  {
   "cell_type": "markdown",
   "metadata": {},
   "source": [
    "In this plot, the loadings now reveal why the PCA came up with this sort of clustering: appararently Jane Austen uses a of personal pronouns (_her_, _she_), whereas Thackeray is a fervent used of the article _the_."
   ]
  },
  {
   "cell_type": "markdown",
   "metadata": {},
   "source": [
    "### Some more eye candy"
   ]
  },
  {
   "cell_type": "markdown",
   "metadata": {},
   "source": [
    "Our plot is starting to look nice. One additional feature we could add is some colouring. We could add this colour information on the basis of our author labels, and give the text of every author a distinct colour in the plot. This easy to achieve. We first define a color dictionary, on the basis of the author labels: "
   ]
  },
  {
   "cell_type": "code",
   "execution_count": 14,
   "metadata": {
    "collapsed": false
   },
   "outputs": [
    {
     "name": "stdout",
     "output_type": "stream",
     "text": [
      "{'Dickens': 'b', 'Thackeray': 'y', 'Austen': 'r'}\n"
     ]
    }
   ],
   "source": [
    "color_dict = {'Austen':'r',\n",
    "              'Dickens':'b',\n",
    "              'Thackeray': 'y'}\n",
    "print(color_dict)"
   ]
  },
  {
   "cell_type": "markdown",
   "metadata": {},
   "source": [
    "We now add the relevant color when looping through the text labels at plotting time"
   ]
  },
  {
   "cell_type": "code",
   "execution_count": 15,
   "metadata": {
    "collapsed": false
   },
   "outputs": [
    {
     "data": {
      "image/png": "[encoded data removed]",
      "text/plain": [
       "<matplotlib.figure.Figure at 0x10cb5ae48>"
      ]
     },
     "metadata": {},
     "output_type": "display_data"
    }
   ],
   "source": [
    "sns.set_style('white') # remove gridlines because of dual axes\n",
    "\n",
    "# we repeat the previous bit:\n",
    "fig, ax1 = sns.plt.subplots()  \n",
    "x1, x2 = X_bar[:,0], X_bar[:,1] # select coordinates via numpy indexing!\n",
    "ax1.scatter(x1, x2, 100, edgecolors='none', facecolors='none')\n",
    "for x, y, title, author in zip(x1, x2, titles, authors):\n",
    "    ax1.text(x, y, title, ha='center',\n",
    "             va=\"center\", color=color_dict[author])\n",
    "\n",
    "# overlay the loadings:\n",
    "ax2 = ax1.twinx().twiny()\n",
    "l1, l2 = loadings[:,0], loadings[:,1]\n",
    "ax2.scatter(l1, l2, 100, edgecolors='none',\n",
    "            facecolors='none') # first empty plot!\n",
    "for x, y, l in zip(l1, l2, words):\n",
    "    ax2.text(x, y, l ,ha='center', va=\"center\",\n",
    "             size=8, color=\"darkgrey\")"
   ]
  },
  {
   "cell_type": "markdown",
   "metadata": {},
   "source": [
    "This surely offers a nice reading aid when inspecting such scatterplots!\n",
    "\n",
    "Another possibility is to run a clustering algorithm on top of the samples' position in the PC space. In this case, our analysis is even less 'supervised', and we will be less tempted to interpret specific distances as 'significant', on the basis of the author labels. Additionally, this setup allows us to demonstrate another set of unsupervised routines in sklearn, namely the type of clustering, which we already worked with in the previous chapter on scipy. Let us import some ('agglomerative') clustering functionality from `sklearn` as follows:"
   ]
  },
  {
   "cell_type": "code",
   "execution_count": 15,
   "metadata": {
    "collapsed": true
   },
   "outputs": [],
   "source": [
    "from sklearn.cluster import AgglomerativeClustering"
   ]
  },
  {
   "cell_type": "markdown",
   "metadata": {},
   "source": [
    "Again, we first need to instantiate the clusters, before we can run it on our data. Note that we have the algorithm discern only the two most distinct clusters, using the `n_clusters` parameter. "
   ]
  },
  {
   "cell_type": "code",
   "execution_count": 16,
   "metadata": {
    "collapsed": false
   },
   "outputs": [
    {
     "data": {
      "text/plain": [
       "AgglomerativeClustering(affinity='euclidean', compute_full_tree='auto',\n",
       "            connectivity=None, linkage='ward',\n",
       "            memory=Memory(cachedir=None), n_clusters=2, n_components=None,\n",
       "            pooling_func=<function mean at 0x1075e9950>)"
      ]
     },
     "execution_count": 16,
     "metadata": {},
     "output_type": "execute_result"
    }
   ],
   "source": [
    "clust = AgglomerativeClustering(linkage='ward', n_clusters=2)\n",
    "clust.fit(X_bar)"
   ]
  },
  {
   "cell_type": "markdown",
   "metadata": {},
   "source": [
    "After running the clustering algorithm, we can now access the cluster labels, indicating to which of the two clusters each inidividual text has been assigned:"
   ]
  },
  {
   "cell_type": "code",
   "execution_count": 17,
   "metadata": {
    "collapsed": false
   },
   "outputs": [
    {
     "name": "stdout",
     "output_type": "stream",
     "text": [
      "[1 1 1 0 0 0 0 0 0]\n"
     ]
    }
   ],
   "source": [
    "cl_labels = clust.labels_\n",
    "print(cl_labels)"
   ]
  },
  {
   "cell_type": "markdown",
   "metadata": {},
   "source": [
    "Notice the underscore at the end of the `.label_` property. If you scroll up, you can see that the `.loadings_` property of the PCA object has it too. The fact that this property _ends_ with an underscore, is a convention which sklearn uses to indicate that this is a property, which only becomes available _after_ fitting the algorithm. We can now use these labels to obtain a more objective coloring of our samples:"
   ]
  },
  {
   "cell_type": "code",
   "execution_count": 19,
   "metadata": {
    "collapsed": false
   },
   "outputs": [
    {
     "data": {
      "image/png": "[encoded data removed]",
      "text/plain": [
       "<matplotlib.figure.Figure at 0x10cf54278>"
      ]
     },
     "metadata": {},
     "output_type": "display_data"
    }
   ],
   "source": [
    "sns.set_style('white') # remove gridlines because of dual axes\n",
    "\n",
    "clust_colors = ('r', 'b')\n",
    "\n",
    "# we repeat the previous bit:\n",
    "fig, ax1 = sns.plt.subplots()  \n",
    "x1, x2 = X_bar[:,0], X_bar[:,1] # select coordinates via numpy indexing!\n",
    "ax1.scatter(x1, x2, 100, edgecolors='none', facecolors='none')\n",
    "for x, y, title, c_idx in zip(x1, x2, titles, cl_labels):\n",
    "    ax1.text(x, y, title, ha='center',\n",
    "             va=\"center\", color=clust_colors[c_idx])\n",
    "\n",
    "# overlay the loadings:\n",
    "ax2 = ax1.twinx().twiny()\n",
    "l1, l2 = loadings[:,0], loadings[:,1]\n",
    "ax2.scatter(l1, l2, 100, edgecolors='none',\n",
    "            facecolors='none') # first empty plot!\n",
    "for x, y, l in zip(l1, l2, words):\n",
    "    ax2.text(x, y, l ,ha='center', va=\"center\",\n",
    "             size=8, color=\"darkgrey\")"
   ]
  },
  {
   "cell_type": "markdown",
   "metadata": {},
   "source": [
    "## Exercise\n",
    "Adapt the code in the previous code blocks to yield 3 and 4 colors in the final graph, varying the number of clusters asked for. Instead of using Agglomerative Clustering, import the clusterer in `sklearn.cluster.KMeans`. Check out the documentation online: is the interface the same? Are the results similar?"
   ]
  },
  {
   "cell_type": "markdown",
   "metadata": {},
   "source": [
    "-------------------------------------------"
   ]
  }
 ],
 "metadata": {
  "kernelspec": {
   "display_name": "Python 3",
   "language": "python",
   "name": "python3"
  },
  "language_info": {
   "codemirror_mode": {
    "name": "ipython",
    "version": 3
   },
   "file_extension": ".py",
   "mimetype": "text/x-python",
   "name": "python",
   "nbconvert_exporter": "python",
   "pygments_lexer": "ipython3",
   "version": "3.4.3"
  }
 },
 "nbformat": 4,
 "nbformat_minor": 0
}
